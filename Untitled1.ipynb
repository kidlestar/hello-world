{
 "cells": [
  {
   "cell_type": "code",
   "execution_count": 2,
   "metadata": {
    "collapsed": true
   },
   "outputs": [],
   "source": [
    "#import part\n",
    "import nltk\n",
    "import numpy as np\n",
    "import pandas"
   ]
  },
  {
   "cell_type": "code",
   "execution_count": 3,
   "metadata": {
    "collapsed": true
   },
   "outputs": [],
   "source": [
    "#read in data(film id, film name, film plot, film genre), put in pandas DataFrame\n",
    "from pandas import DataFrame\n",
    "keys = ['Wikipedia movie ID','Freebase movie ID','Movie name','Movie release date','Movie box office revenue','Movie runtime','Movie languages','Movie countries','Movie genres']\n",
    "\n",
    "movie_metadata = pandas.read_csv(\"/home/xudong/Desktop/TC3/MovieSummaries/movie.metadata.tsv\", sep=\"\\t\",header=None,names=keys)"
   ]
  },
  {
   "cell_type": "code",
   "execution_count": 4,
   "metadata": {
    "collapsed": true
   },
   "outputs": [],
   "source": [
    "movie_plot = pandas.read_csv(\"/home/xudong/Desktop/TC3/MovieSummaries/plot_summaries.txt\", sep=\"\\t\",header=None,names=['Wikipedia movie ID','Plot summary'])"
   ]
  },
  {
   "cell_type": "code",
   "execution_count": 5,
   "metadata": {
    "collapsed": true
   },
   "outputs": [],
   "source": [
    "#clean the data in movie_metadata\n",
    "movie_metadata.drop('Freebase movie ID', axis=1, inplace=True)"
   ]
  },
  {
   "cell_type": "code",
   "execution_count": 6,
   "metadata": {
    "collapsed": true
   },
   "outputs": [],
   "source": [
    "import ast"
   ]
  },
  {
   "cell_type": "code",
   "execution_count": 7,
   "metadata": {
    "collapsed": true
   },
   "outputs": [],
   "source": [
    "new_keys = ['Wikipedia movie ID','Movie name','Movie release date','Movie box office revenue','Movie runtime','Movie languages','Movie countries','Movie genres']\n",
    "columns = ['Wikipedia movie ID','Movie name','Movie release date','Movie box office revenue','Movie runtime']\n",
    "new_movie_metadata = pandas.DataFrame(index=range(len(movie_metadata)), columns=new_keys)\n",
    "for column in columns:\n",
    "    new_movie_metadata.loc[:,column] = movie_metadata.loc[:,column]"
   ]
  },
  {
   "cell_type": "code",
   "execution_count": 8,
   "metadata": {
    "collapsed": true
   },
   "outputs": [],
   "source": [
    "temp1 = []\n",
    "temp2 = []\n",
    "temp3 = []\n",
    "for i in range(len(movie_metadata)):\n",
    "    temp1.append(list(ast.literal_eval(movie_metadata.loc[i,'Movie languages']).values()))\n",
    "    \n",
    "    temp2.append(list(ast.literal_eval(movie_metadata.loc[i,'Movie countries']).values()))\n",
    "    \n",
    "    temp3.append(list(ast.literal_eval(movie_metadata.loc[i,'Movie genres']).values()))"
   ]
  },
  {
   "cell_type": "code",
   "execution_count": 9,
   "metadata": {
    "collapsed": true
   },
   "outputs": [],
   "source": [
    "\n",
    "new_movie_metadata.at[:,'Movie languages'] = temp1[:]   \n",
    "new_movie_metadata.at[:,'Movie countries'] = temp2[:]\n",
    "new_movie_metadata.at[:,'Movie genres'] = temp3[:]"
   ]
  },
  {
   "cell_type": "code",
   "execution_count": 11,
   "metadata": {},
   "outputs": [],
   "source": [
    "list_of_genre = []\n",
    "for i in range(len(temp3)):\n",
    "    list_of_genre.extend(temp3[i][:])    \n",
    "list_of_genre = list(set(list_of_genre))    "
   ]
  },
  {
   "cell_type": "code",
   "execution_count": 16,
   "metadata": {},
   "outputs": [
    {
     "data": {
      "text/plain": [
       "81741"
      ]
     },
     "execution_count": 16,
     "metadata": {},
     "output_type": "execute_result"
    }
   ],
   "source": [
    "#delete data without any genre\n"
   ]
  }
 ],
 "metadata": {
  "kernelspec": {
   "display_name": "Python 3",
   "language": "python",
   "name": "python3"
  },
  "language_info": {
   "codemirror_mode": {
    "name": "ipython",
    "version": 3
   },
   "file_extension": ".py",
   "mimetype": "text/x-python",
   "name": "python",
   "nbconvert_exporter": "python",
   "pygments_lexer": "ipython3",
   "version": "3.5.2"
  }
 },
 "nbformat": 4,
 "nbformat_minor": 2
}
